{
 "cells": [
  {
   "cell_type": "code",
   "execution_count": 1,
   "metadata": {
    "collapsed": true
   },
   "outputs": [],
   "source": [
    "import numpy as np\n",
    "import pandas as pd\n",
    "import matplotlib\n",
    "%matplotlib inline"
   ]
  },
  {
   "cell_type": "code",
   "execution_count": 2,
   "metadata": {
    "collapsed": true
   },
   "outputs": [],
   "source": [
    "reviews = pd.read_csv('data/raw_reviews.csv', header=0, usecols=['reting','date', 'comment'], encoding='utf-8')"
   ]
  },
  {
   "cell_type": "code",
   "execution_count": 3,
   "metadata": {},
   "outputs": [
    {
     "data": {
      "text/html": [
       "<div>\n",
       "<style>\n",
       "    .dataframe thead tr:only-child th {\n",
       "        text-align: right;\n",
       "    }\n",
       "\n",
       "    .dataframe thead th {\n",
       "        text-align: left;\n",
       "    }\n",
       "\n",
       "    .dataframe tbody tr th {\n",
       "        vertical-align: top;\n",
       "    }\n",
       "</style>\n",
       "<table border=\"1\" class=\"dataframe\">\n",
       "  <thead>\n",
       "    <tr style=\"text-align: right;\">\n",
       "      <th></th>\n",
       "      <th>reting</th>\n",
       "      <th>date</th>\n",
       "      <th>comment</th>\n",
       "    </tr>\n",
       "  </thead>\n",
       "  <tbody>\n",
       "    <tr>\n",
       "      <th>0</th>\n",
       "      <td>2.0</td>\n",
       "      <td>2013-06-28</td>\n",
       "      <td>2,5 года работала и все...устала! Лампочка гор...</td>\n",
       "    </tr>\n",
       "    <tr>\n",
       "      <th>1</th>\n",
       "      <td>2.0</td>\n",
       "      <td>2010-07-04</td>\n",
       "      <td>Через 2 месяца после истечении гарантийного ср...</td>\n",
       "    </tr>\n",
       "    <tr>\n",
       "      <th>2</th>\n",
       "      <td>4.0</td>\n",
       "      <td>2010-05-27</td>\n",
       "      <td>пользуюсь уже три недели. нареканий ни каких н...</td>\n",
       "    </tr>\n",
       "    <tr>\n",
       "      <th>3</th>\n",
       "      <td>5.0</td>\n",
       "      <td>2016-10-11</td>\n",
       "      <td>Ребят этот системный блок подойдёт для игры кс...</td>\n",
       "    </tr>\n",
       "    <tr>\n",
       "      <th>4</th>\n",
       "      <td>5.0</td>\n",
       "      <td>2010-02-26</td>\n",
       "      <td>я считаю, что яри замечательный телефон! Прият...</td>\n",
       "    </tr>\n",
       "  </tbody>\n",
       "</table>\n",
       "</div>"
      ],
      "text/plain": [
       "   reting        date                                            comment\n",
       "0     2.0  2013-06-28  2,5 года работала и все...устала! Лампочка гор...\n",
       "1     2.0  2010-07-04  Через 2 месяца после истечении гарантийного ср...\n",
       "2     4.0  2010-05-27  пользуюсь уже три недели. нареканий ни каких н...\n",
       "3     5.0  2016-10-11  Ребят этот системный блок подойдёт для игры кс...\n",
       "4     5.0  2010-02-26  я считаю, что яри замечательный телефон! Прият..."
      ]
     },
     "execution_count": 3,
     "metadata": {},
     "output_type": "execute_result"
    }
   ],
   "source": [
    "reviews.head()"
   ]
  },
  {
   "cell_type": "code",
   "execution_count": 4,
   "metadata": {},
   "outputs": [
    {
     "data": {
      "text/plain": [
       "(15587, 3)"
      ]
     },
     "execution_count": 4,
     "metadata": {},
     "output_type": "execute_result"
    }
   ],
   "source": [
    "reviews.shape"
   ]
  },
  {
   "cell_type": "code",
   "execution_count": 5,
   "metadata": {},
   "outputs": [
    {
     "data": {
      "text/plain": [
       "(15513, 3)"
      ]
     },
     "execution_count": 5,
     "metadata": {},
     "output_type": "execute_result"
    }
   ],
   "source": [
    "reviews = reviews[~reviews.comment.duplicated()]\n",
    "reviews.shape"
   ]
  },
  {
   "cell_type": "code",
   "execution_count": 6,
   "metadata": {},
   "outputs": [
    {
     "data": {
      "text/plain": [
       "5.0    9189\n",
       "4.0    2606\n",
       "1.0    1440\n",
       "3.0    1240\n",
       "2.0     850\n",
       "4.7      76\n",
       "4.3      51\n",
       "3.3      15\n",
       "3.7      14\n",
       "2.7      14\n",
       "2.3      12\n",
       "1.3       5\n",
       "1.7       1\n",
       "Name: reting, dtype: int64"
      ]
     },
     "execution_count": 6,
     "metadata": {},
     "output_type": "execute_result"
    }
   ],
   "source": [
    "reviews.reting.value_counts()"
   ]
  },
  {
   "cell_type": "markdown",
   "metadata": {},
   "source": [
    "reviews[reviews.comment.apply(len) < 3000].comment.apply(len).hist(bins=50)"
   ]
  },
  {
   "cell_type": "code",
   "execution_count": 8,
   "metadata": {
    "collapsed": true
   },
   "outputs": [],
   "source": [
    "# reviews = reviews[reviews.comment.apply(len) < 500]"
   ]
  },
  {
   "cell_type": "code",
   "execution_count": null,
   "metadata": {
    "collapsed": true
   },
   "outputs": [],
   "source": [
    "reviews.comment.apply(lambda s: len(s.split())).hist(bins=30)"
   ]
  },
  {
   "cell_type": "code",
   "execution_count": 10,
   "metadata": {
    "scrolled": true
   },
   "outputs": [
    {
     "data": {
      "text/plain": [
       "(15513, 3)"
      ]
     },
     "execution_count": 10,
     "metadata": {},
     "output_type": "execute_result"
    }
   ],
   "source": [
    "reviews.shape"
   ]
  },
  {
   "cell_type": "markdown",
   "metadata": {},
   "source": [
    "# Разделение выборки на train и test"
   ]
  },
  {
   "cell_type": "code",
   "execution_count": 11,
   "metadata": {
    "collapsed": true
   },
   "outputs": [],
   "source": [
    "from sklearn.model_selection import train_test_split\n",
    "\n",
    "TEST_SIZE = 0.2\n",
    "\n",
    "X_train, X_test, y_train, y_test = train_test_split(reviews.comment, reviews.reting,\n",
    "                                                    test_size=TEST_SIZE, random_state=42)"
   ]
  },
  {
   "cell_type": "code",
   "execution_count": 12,
   "metadata": {
    "collapsed": true
   },
   "outputs": [],
   "source": [
    "reviews_train = pd.DataFrame(X_train)\n",
    "reviews_train['reting'] = y_train\n",
    "\n",
    "reviews_test = pd.DataFrame(X_test)\n",
    "reviews_test['reting'] = y_test"
   ]
  },
  {
   "cell_type": "code",
   "execution_count": 13,
   "metadata": {
    "collapsed": true
   },
   "outputs": [],
   "source": [
    "reviews_train.to_csv('data/reviews_train.csv', index=False, encoding='utf-8')\n",
    "reviews_test.to_csv('data/reviews_test.csv', index=False, encoding='utf-8')"
   ]
  },
  {
   "cell_type": "markdown",
   "metadata": {},
   "source": [
    "### Анализ слов в обучающей выборке"
   ]
  },
  {
   "cell_type": "code",
   "execution_count": 14,
   "metadata": {},
   "outputs": [
    {
     "name": "stderr",
     "output_type": "stream",
     "text": [
      "C:\\Users\\miair\\Anaconda3\\envs\\tensorflow\\lib\\site-packages\\gensim\\utils.py:865: UserWarning: detected Windows; aliasing chunkize to chunkize_serial\n",
      "  warnings.warn(\"detected Windows; aliasing chunkize to chunkize_serial\")\n",
      "Using TensorFlow backend.\n"
     ]
    }
   ],
   "source": [
    "from sentence_processor import SentenceProcessor"
   ]
  },
  {
   "cell_type": "code",
   "execution_count": 16,
   "metadata": {
    "collapsed": true
   },
   "outputs": [],
   "source": [
    "DIR = 'data/w2v_models/'\n",
    "MODEL_NAME = 'all.norm-sz100-w10-cb0-it1-min100.w2v'\n",
    "\n",
    "w2v_path = DIR + MODEL_NAME\n",
    "sentence_processor = SentenceProcessor(w2v_path)"
   ]
  },
  {
   "cell_type": "code",
   "execution_count": 26,
   "metadata": {},
   "outputs": [
    {
     "data": {
      "application/vnd.jupyter.widget-view+json": {
       "model_id": "2bf70ae6ef664bddaf439c5e2ef50b68"
      }
     },
     "metadata": {},
     "output_type": "display_data"
    }
   ],
   "source": [
    "from tqdm import tqdm_notebook\n",
    "\n",
    "# creating a dictionary of words with frequency counting\n",
    "dictionary = {}\n",
    "\n",
    "for comment in tqdm_notebook(reviews_train.comment):\n",
    "    bag_of_words = sentence_processor.process(comment)\n",
    "    for word in bag_of_words:\n",
    "        dictionary.setdefault(word, 0)\n",
    "        dictionary[word] += 1"
   ]
  },
  {
   "cell_type": "code",
   "execution_count": 35,
   "metadata": {},
   "outputs": [
    {
     "name": "stdout",
     "output_type": "stream",
     "text": [
      "я -> 5710\n",
      "большой -> 1647\n",
      "по -> 3259\n",
      "купить -> 3718\n",
      "этот -> 3141\n",
      "на -> 10005\n",
      "один -> 2453\n",
      "так -> 2560\n",
      "только -> 2188\n",
      "из -> 2163\n",
      "хороший -> 3265\n",
      "как -> 3268\n",
      "отличный -> 1959\n",
      "что -> 6567\n",
      "это -> 4617\n",
      "и -> 17606\n",
      "за -> 2879\n",
      "у -> 2853\n",
      "в -> 14177\n",
      "если -> 1929\n",
      "с -> 6425\n",
      "очень -> 5916\n",
      "нет -> 1758\n",
      "же -> 1516\n",
      "он -> 3821\n",
      "при -> 2485\n",
      "для -> 3728\n",
      "пользоваться -> 1936\n",
      "быть -> 3603\n",
      "а -> 3961\n",
      "просто -> 1838\n",
      "раз -> 1609\n",
      "работать -> 2387\n",
      "но -> 5147\n",
      "качество -> 1663\n",
      "довольный -> 1859\n",
      "к -> 2016\n",
      "весь -> 5580\n",
      "не -> 16416\n",
      "можно -> 1522\n",
      "есть -> 1791\n",
      "цена -> 1504\n",
      "от -> 1789\n",
      "уже -> 1711\n",
      "такой -> 2453\n",
      "она -> 1932\n",
      "год -> 3236\n",
      "то -> 2997\n"
     ]
    }
   ],
   "source": [
    "garbage_list = []\n",
    "for word, value in dictionary.items():\n",
    "    if value > 1500:\n",
    "        print ('{} -> {}'.format(word, value))\n",
    "        garbage_list.append(word)"
   ]
  },
  {
   "cell_type": "code",
   "execution_count": 40,
   "metadata": {},
   "outputs": [
    {
     "name": "stdout",
     "output_type": "stream",
     "text": [
      "['я', 'большой', 'по', 'купить', 'этот', 'на', 'один', 'так', 'только', 'из', 'хороший', 'как', 'отличный', 'что', 'это', 'и', 'за', 'у', 'в', 'если', 'с', 'очень', 'нет', 'же', 'он', 'при', 'для', 'пользоваться', 'быть', 'а', 'просто', 'раз', 'работать', 'но', 'качество', 'к', 'весь', 'не', 'можно', 'есть', 'цена', 'от', 'уже', 'такой', 'она', 'год', 'то']\n"
     ]
    }
   ],
   "source": [
    "print (garbage_list)"
   ]
  }
 ],
 "metadata": {
  "kernelspec": {
   "display_name": "Python 3",
   "language": "python",
   "name": "python3"
  },
  "language_info": {
   "codemirror_mode": {
    "name": "ipython",
    "version": 3
   },
   "file_extension": ".py",
   "mimetype": "text/x-python",
   "name": "python",
   "nbconvert_exporter": "python",
   "pygments_lexer": "ipython3",
   "version": "3.4.3"
  }
 },
 "nbformat": 4,
 "nbformat_minor": 2
}
