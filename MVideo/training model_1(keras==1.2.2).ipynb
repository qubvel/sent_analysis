{
 "cells": [
  {
   "cell_type": "code",
   "execution_count": 1,
   "metadata": {},
   "outputs": [
    {
     "name": "stderr",
     "output_type": "stream",
     "text": [
      "Using TensorFlow backend.\n",
      "C:\\Users\\miair\\Anaconda3\\envs\\tensorflow\\lib\\site-packages\\gensim\\utils.py:865: UserWarning: detected Windows; aliasing chunkize to chunkize_serial\n",
      "  warnings.warn(\"detected Windows; aliasing chunkize to chunkize_serial\")\n"
     ]
    }
   ],
   "source": [
    "import keras\n",
    "import pickle\n",
    "import numpy as np\n",
    "import pandas as pd\n",
    "import tensorflow as tf\n",
    "from tqdm import tqdm_notebook\n",
    "from utils.sentence_processor import SentenceProcessor\n",
    "from utils.stop_words import stop_words"
   ]
  },
  {
   "cell_type": "code",
   "execution_count": 64,
   "metadata": {},
   "outputs": [
    {
     "data": {
      "text/plain": [
       "<module 'utils.sentence_processor' from 'C:\\\\Users\\\\miair\\\\Documents\\\\Python Scripts\\\\sent_analysis\\\\MVideo\\\\utils\\\\sentence_processor.py'>"
      ]
     },
     "execution_count": 64,
     "metadata": {},
     "output_type": "execute_result"
    }
   ],
   "source": [
    "import importlib\n",
    "import utils.sentence_processor\n",
    "importlib.reload(utils.sentence_processor)"
   ]
  },
  {
   "cell_type": "markdown",
   "metadata": {},
   "source": [
    "### Загрузка данных"
   ]
  },
  {
   "cell_type": "markdown",
   "metadata": {},
   "source": [
    "Для начала загружаем данные из \\*.csv файлов, данные были предварительно разбиты на обучающую и проверочную выборки (см. файл \"data preprocessing.ipynb\"). Кроме того, были загружены дополнительные данные для увеличения обучающей выборки(отзывы об интернет провайдерах)."
   ]
  },
  {
   "cell_type": "code",
   "execution_count": 2,
   "metadata": {
    "collapsed": true
   },
   "outputs": [],
   "source": [
    "# загрузка из файла\n",
    "reviews_test = pd.read_csv('data/reviews_test.csv', header=0, encoding='utf-8')\n",
    "reviews_train = pd.read_csv('data/reviews_train.csv', header=0, encoding='utf-8')\n",
    "reviews_internet = pd.read_csv('data/internet_reviews.csv', header=0, encoding='utf-8')\n",
    "\n",
    "# обучающая выборка\n",
    "X_train_raw = reviews_train.comment\n",
    "y_train_raw = reviews_train.reting\n",
    "\n",
    "# проверочная выборка\n",
    "X_test_raw = reviews_test.comment\n",
    "y_test_raw = reviews_test.reting\n",
    "\n",
    "# дополнительная обучающая выборка\n",
    "X_internet = reviews_internet.comment\n",
    "y_internet = reviews_internet.rating"
   ]
  },
  {
   "cell_type": "markdown",
   "metadata": {},
   "source": [
    "#### Загрузка обработчика комментариев"
   ]
  },
  {
   "cell_type": "markdown",
   "metadata": {},
   "source": [
    "Загружаем предобученную модель word to vec в обработчик комментариев (модель можно найти [здесь](https://www.nlpub.ru/Russian_Distributional_Thesaurus), мы использовали модель размерностью 500 со словарем более 1 млн. слов).\n",
    "<br /><br />В обработчике:\n",
    " - переводим текст в нижний регистр\n",
    " - разбиваем по словам, удаляя всё, кроме букв\n",
    " - исправляем орфографию, где это возможно, с помощью [Яндекс.спеллер](https://tech.yandex.ru/speller/)\n",
    " - нормализуем слова, приводя их к единственному числу, именительному падежу и т.д. и т.п.\n",
    " - еще раз иcправляем орфографию :)\n",
    " - переводим полученный массив слов с помощью обученной w2v модели в матрицу размерностью количество\\_слов х размер\\_вектора\\_слова - 100x500 (размер комментария выбран изходя из анализа данных в  \"data preprocessing.ipynb\")"
   ]
  },
  {
   "cell_type": "code",
   "execution_count": 3,
   "metadata": {
    "collapsed": true
   },
   "outputs": [],
   "source": [
    "DIR = 'data/w2v_models/'\n",
    "MODEL_NAME = 'tenth.norm-sz500-w7-cb0-it5-min5.w2v'\n",
    "#MODEL_NAME = 'all.norm-sz100-w10-cb0-it1-min100.w2v'"
   ]
  },
  {
   "cell_type": "code",
   "execution_count": 4,
   "metadata": {},
   "outputs": [],
   "source": [
    "# initialazing comment preprocessor\n",
    "sp = SentenceProcessor(DIR + MODEL_NAME)\n",
    "sp.stop_list = stop_words\n",
    "sp.sample_len = 100"
   ]
  },
  {
   "cell_type": "code",
   "execution_count": 5,
   "metadata": {},
   "outputs": [
    {
     "name": "stdout",
     "output_type": "stream",
     "text": [
      "Размерность коментария: 100x500\n"
     ]
    }
   ],
   "source": [
    "WORD_VECTOR_LENGTH = sp.w2v.vector_size # 500 each word\n",
    "SENTENCE_LENGTH = sp.sample_len # 100 words\n",
    "\n",
    "print ('Размерность коментария: {}x{}'.format(SENTENCE_LENGTH, WORD_VECTOR_LENGTH))"
   ]
  },
  {
   "cell_type": "markdown",
   "metadata": {},
   "source": [
    "#### Обработка данных"
   ]
  },
  {
   "cell_type": "code",
   "execution_count": null,
   "metadata": {},
   "outputs": [],
   "source": [
    "# приводим оба датафрема к одному формату\n",
    "del reviews_internet['Unnamed: 0']\n",
    "reviews_internet = reviews_internet.rename(columns={'rating':'reting'})\n",
    "\n",
    "# склеиваем данные\n",
    "new_reviews = reviews_train.append(reviews_internet, ignore_index=True)\n",
    "\n",
    "# добавляем новый столбец\n",
    "new_reviews['bag_of_words'] = ' '"
   ]
  },
  {
   "cell_type": "code",
   "execution_count": null,
   "metadata": {},
   "outputs": [],
   "source": [
    "# первичная предобработка данных(токенизация, нормализация, исправление орфографических ошибок)\n",
    "bag_of_bags = []\n",
    "for i in tqdm_notebook(range(len(new_reviews.comment))):\n",
    "    bag_of_bags.append(' '.join(sp.process(new_reviews.comment[i])))"
   ]
  },
  {
   "cell_type": "code",
   "execution_count": null,
   "metadata": {
    "collapsed": true
   },
   "outputs": [],
   "source": [
    "# добавляем обработанные комментарии в новый столбец\n",
    "new_reviews['bag_of_words'] = bag_of_bags\n",
    "\n",
    "# сохраняем наши данные в .csv формате\n",
    "new_reviews.to_csv('data/new_reviews.csv')\n",
    "\n",
    "# на всякий случай сохраняем обработанные комментарии в .pkl\n",
    "with open('bag_{}.pkl'.format(len(bag_of_bags)), 'wb') as f:\n",
    "    pickle.dump(bag_of_bags, f)"
   ]
  },
  {
   "cell_type": "code",
   "execution_count": 6,
   "metadata": {},
   "outputs": [],
   "source": [
    "# читаем из файла если предыдущие шаги уже выполнены\n",
    "new_reviews = pd.read_csv('data/new_reviews.csv', encoding='cp1251')"
   ]
  },
  {
   "cell_type": "code",
   "execution_count": 22,
   "metadata": {
    "collapsed": true
   },
   "outputs": [],
   "source": [
    "# полная обучающая выборка\n",
    "X_train_all = new_reviews.bag_of_words\n",
    "y_train_all = new_reviews.reting\n",
    "\n",
    "# обучающая выборка от МВидео (без дополнительных отзывов об интернет провайдерах)\n",
    "X_train = new_reviews.bag_of_words[:12410]\n",
    "y_train = new_reviews.reting[:12410]\n",
    "\n",
    "# тестовая выборка\n",
    "X_val = reviews_test.comment\n",
    "y_val = reviews_test.reting"
   ]
  },
  {
   "cell_type": "code",
   "execution_count": null,
   "metadata": {
    "collapsed": true
   },
   "outputs": [],
   "source": []
  },
  {
   "cell_type": "code",
   "execution_count": null,
   "metadata": {
    "collapsed": true
   },
   "outputs": [],
   "source": []
  },
  {
   "cell_type": "code",
   "execution_count": null,
   "metadata": {
    "collapsed": true
   },
   "outputs": [],
   "source": []
  },
  {
   "cell_type": "code",
   "execution_count": 8,
   "metadata": {
    "collapsed": true
   },
   "outputs": [],
   "source": [
    "from utils.generators import train_generator, test_generator\n",
    "from keras.regularizers import l2 as L2\n",
    "l2 = L2(0.01)"
   ]
  },
  {
   "cell_type": "code",
   "execution_count": 9,
   "metadata": {
    "collapsed": true
   },
   "outputs": [],
   "source": [
    "MODELS_DIR = 'data/nn_models/'"
   ]
  },
  {
   "cell_type": "markdown",
   "metadata": {},
   "source": [
    "# Модель № 1\n",
    "**Вход**\n",
    "\n",
    "**Данные:** Данные предоставленные МВидео (80% обучающая выборка/ 20% тестовая выборка)\n",
    "\n",
    "**Представление:** word2vec на основе обученной модели gensim, размерность пространства: 500\n",
    "\n",
    "**Описание модели:** 4 параллельные 1D свертки с разым размером окна по компоненте word2vec, с L2 регулиризацией, далее объединение результатов, GlobalVaxPooling, и один полносвязный слой с дропаутом, далее выход регрессии.\n",
    "\n",
    "**Параметры обучения:** Оптимизатор: стохастический градиентный спуск, learning rate опредлялся как: 2 эпохи с 0.01, далее ~5 эпох с 0.001, далее ~5 эпох с 0.0001, далее ~5 эпох с 0.00005\n",
    "\n",
    "**Целевая метрика:** MSE\n",
    "\n",
    "**Результат:** MSE(train)=0.8403, MSE(test)=**0.9136**"
   ]
  },
  {
   "cell_type": "code",
   "execution_count": 53,
   "metadata": {},
   "outputs": [
    {
     "name": "stdout",
     "output_type": "stream",
     "text": [
      "____________________________________________________________________________________________________\n",
      "Layer (type)                     Output Shape          Param #     Connected to                     \n",
      "====================================================================================================\n",
      "input_2 (InputLayer)             (None, 100, 500)      0                                            \n",
      "____________________________________________________________________________________________________\n",
      "dense_2 (Dense)                  (None, 100, 256)      128256      input_2[0][0]                    \n",
      "____________________________________________________________________________________________________\n",
      "convolution1d_1 (Convolution1D)  (None, 99, 256)       256256      input_2[0][0]                    \n",
      "____________________________________________________________________________________________________\n",
      "convolution1d_2 (Convolution1D)  (None, 98, 256)       384256      input_2[0][0]                    \n",
      "____________________________________________________________________________________________________\n",
      "convolution1d_3 (Convolution1D)  (None, 97, 256)       512256      input_2[0][0]                    \n",
      "____________________________________________________________________________________________________\n",
      "merge_1 (Merge)                  (None, 394, 256)      0           dense_2[0][0]                    \n",
      "                                                                   convolution1d_1[0][0]            \n",
      "                                                                   convolution1d_2[0][0]            \n",
      "                                                                   convolution1d_3[0][0]            \n",
      "____________________________________________________________________________________________________\n",
      "globalmaxpooling1d_1 (GlobalMaxP (None, 256)           0           merge_1[0][0]                    \n",
      "____________________________________________________________________________________________________\n",
      "dropout_1 (Dropout)              (None, 256)           0           globalmaxpooling1d_1[0][0]       \n",
      "____________________________________________________________________________________________________\n",
      "dense_3 (Dense)                  (None, 1)             257         dropout_1[0][0]                  \n",
      "====================================================================================================\n",
      "Total params: 1,281,281\n",
      "Trainable params: 1,281,281\n",
      "Non-trainable params: 0\n",
      "____________________________________________________________________________________________________\n"
     ]
    }
   ],
   "source": [
    "# создаем модель нейросети\n",
    "input = keras.layers.Input(shape=(SENTENCE_LENGTH, WORD_VECTOR_LENGTH))\n",
    "l_0 = keras.layers.Dense(256)(input)\n",
    "l_1 = keras.layers.Conv1D(nb_filter=256, filter_length=2, activation='relu', W_regularizer=l2)(input)\n",
    "l_2 = keras.layers.Conv1D(nb_filter=256, filter_length=3, activation='relu', W_regularizer=l2)(input)\n",
    "l_3 = keras.layers.Conv1D(nb_filter=256, filter_length=4, activation='relu', W_regularizer=l2)(input)\n",
    "merge = keras.layers.Merge(mode='concat', concat_axis=1) ([l_0, l_1, l_2, l_3])\n",
    "l_5 = keras.layers.GlobalMaxPooling1D()(merge)\n",
    "l_6 = keras.layers.Dropout(0.5)(l_5)\n",
    "output = keras.layers.Dense(1, activation=None, W_regularizer=l2)(l_6)\n",
    "model = keras.models.Model(input, output, name='model_5')\n",
    "model.summary()"
   ]
  },
  {
   "cell_type": "code",
   "execution_count": 74,
   "metadata": {
    "collapsed": true
   },
   "outputs": [],
   "source": [
    "# загрузка обученной модели\n",
    "model = keras.models.load_model('data/nn_models/model_5_mse_0.9056_extra')"
   ]
  },
  {
   "cell_type": "code",
   "execution_count": null,
   "metadata": {
    "scrolled": true
   },
   "outputs": [],
   "source": [
    "# обучение\n",
    "optimizer = keras.optimizers.SGD(lr=0.01)\n",
    "model.compile(loss='mean_squared_error', optimizer=optimizer, metrics=['mse'])\n",
    "\n",
    "model.fit_generator(\n",
    "    train_generator(X_train, y_train, sp, shuffle=True), \n",
    "    nb_epoch=10,\n",
    "    samples_per_epoch=len(y_train),\n",
    "    validation_data=train_generator(X_val, y_val, sp, shuffle=False),\n",
    "    nb_val_samples=len(y_val),\n",
    "    verbose=2,\n",
    ")"
   ]
  },
  {
   "cell_type": "code",
   "execution_count": 79,
   "metadata": {
    "collapsed": true
   },
   "outputs": [],
   "source": [
    "# сохранение обчунной модели\n",
    "model.save('data/nn_models/trained_model_1(keras==1.2.2)')"
   ]
  },
  {
   "cell_type": "markdown",
   "metadata": {},
   "source": [
    "## Результаты"
   ]
  },
  {
   "cell_type": "code",
   "execution_count": 78,
   "metadata": {},
   "outputs": [
    {
     "name": "stdout",
     "output_type": "stream",
     "text": [
      "mode \n",
      "MSE: 0.9136\n",
      "MAE: 0.6817\n",
      "MedianAE: 0.4942\n",
      "R2 score: 0.471\n"
     ]
    },
    {
     "data": {
      "image/png": "[encoded data removed]",
      "text/plain": [
       "<matplotlib.figure.Figure at 0x12400e29a58>"
      ]
     },
     "metadata": {},
     "output_type": "display_data"
    }
   ],
   "source": [
    "# метрики\n",
    "errors = get_score(model, X_val_vec, y_val.values, sparse=40)"
   ]
  },
  {
   "cell_type": "markdown",
   "metadata": {
    "collapsed": true
   },
   "source": [
    "### Классификатор 5 / не 5"
   ]
  },
  {
   "cell_type": "code",
   "execution_count": null,
   "metadata": {
    "collapsed": true
   },
   "outputs": [],
   "source": [
    "from sklearn.ensemble import RandomForestClassifier\n",
    "from sklearn.ensemble import BaggingClassifier\n",
    "from sklearn.ensemble import GradientBoostingClassifier\n",
    "from sklearn.svm import SVC\n",
    "from sklearn.decomposition import PCA\n",
    "from sklearn.metrics import accuracy_score"
   ]
  },
  {
   "cell_type": "code",
   "execution_count": 34,
   "metadata": {
    "collapsed": true
   },
   "outputs": [],
   "source": [
    "def to_bool(y):\n",
    "    y_bool = []\n",
    "    for a in y:\n",
    "        if a == 5.0:\n",
    "            y_bool.append(1)\n",
    "        else:\n",
    "            y_bool.append(0)\n",
    "    return y_bool\n",
    "\n",
    "y_train_bool = to_bool(y_train)\n",
    "y_test_bool = to_bool(y_test)  "
   ]
  },
  {
   "cell_type": "markdown",
   "metadata": {},
   "source": [
    "Cнизижаем размерность"
   ]
  },
  {
   "cell_type": "code",
   "execution_count": 6,
   "metadata": {
    "collapsed": true
   },
   "outputs": [],
   "source": [
    "p = PCA(n_components=100)"
   ]
  },
  {
   "cell_type": "code",
   "execution_count": 7,
   "metadata": {},
   "outputs": [
    {
     "data": {
      "text/plain": [
       "PCA(copy=True, iterated_power='auto', n_components=100, random_state=None,\n",
       "  svd_solver='auto', tol=0.0, whiten=False)"
      ]
     },
     "execution_count": 7,
     "metadata": {},
     "output_type": "execute_result"
    }
   ],
   "source": [
    "p.fit(X_train.reshape((X_train.shape[0], -1)))"
   ]
  },
  {
   "cell_type": "code",
   "execution_count": 10,
   "metadata": {
    "collapsed": true
   },
   "outputs": [],
   "source": [
    "X_train_transformed = p.transform(X_train.reshape((X_train.shape[0], -1)))"
   ]
  },
  {
   "cell_type": "code",
   "execution_count": 8,
   "metadata": {
    "collapsed": true
   },
   "outputs": [],
   "source": [
    "X_test_transformed = p.transform(X_test.reshape((X_test.shape[0], -1)))"
   ]
  },
  {
   "cell_type": "markdown",
   "metadata": {},
   "source": [
    "Обучаем классификатор"
   ]
  },
  {
   "cell_type": "code",
   "execution_count": 28,
   "metadata": {},
   "outputs": [
    {
     "data": {
      "text/plain": [
       "SVC(C=100.0, cache_size=200, class_weight=None, coef0=0.0,\n",
       "  decision_function_shape=None, degree=3, gamma='auto', kernel='rbf',\n",
       "  max_iter=-1, probability=False, random_state=None, shrinking=True,\n",
       "  tol=0.001, verbose=False)"
      ]
     },
     "execution_count": 28,
     "metadata": {},
     "output_type": "execute_result"
    }
   ],
   "source": [
    "clf = SVC(C=100.0)\n",
    "clf.fit(X_train_transformed, y_train_bool)"
   ]
  },
  {
   "cell_type": "code",
   "execution_count": 29,
   "metadata": {
    "collapsed": true
   },
   "outputs": [],
   "source": [
    "y_pred = clf.predict(X_test_transformed)"
   ]
  },
  {
   "cell_type": "code",
   "execution_count": 35,
   "metadata": {},
   "outputs": [
    {
     "data": {
      "text/plain": [
       "0.66720464816010328"
      ]
     },
     "execution_count": 35,
     "metadata": {},
     "output_type": "execute_result"
    }
   ],
   "source": [
    "accuracy_score(y_test_bool, y_pred)"
   ]
  }
 ],
 "metadata": {
  "kernelspec": {
   "display_name": "Python 3",
   "language": "python",
   "name": "python3"
  },
  "language_info": {
   "codemirror_mode": {
    "name": "ipython",
    "version": 3
   },
   "file_extension": ".py",
   "mimetype": "text/x-python",
   "name": "python",
   "nbconvert_exporter": "python",
   "pygments_lexer": "ipython3",
   "version": "3.5.3"
  }
 },
 "nbformat": 4,
 "nbformat_minor": 2
}
